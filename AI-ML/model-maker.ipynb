{
 "cells": [
  {
   "cell_type": "markdown",
   "metadata": {},
   "source": [
    "# Importing Dataset"
   ]
  },
  {
   "cell_type": "code",
   "execution_count": 10,
   "metadata": {},
   "outputs": [],
   "source": [
    "import polars as pl\n",
    "import numpy as np\n",
    "import seaborn as sns\n",
    "import matplotlib.pyplot as plt"
   ]
  },
  {
   "cell_type": "code",
   "execution_count": 11,
   "metadata": {},
   "outputs": [
    {
     "data": {
      "text/html": [
       "<div><style>\n",
       ".dataframe > thead > tr,\n",
       ".dataframe > tbody > tr {\n",
       "  text-align: right;\n",
       "  white-space: pre-wrap;\n",
       "}\n",
       "</style>\n",
       "<small>shape: (3_993_773, 2)</small><table border=\"1\" class=\"dataframe\"><thead><tr><th>sentiment</th><th>review</th></tr><tr><td>i64</td><td>str</td></tr></thead><tbody><tr><td>1</td><td>&quot;I have very dry skin and I usu…</td></tr><tr><td>0</td><td>&quot;I own a HP5250.Good side, it i…</td></tr><tr><td>1</td><td>&quot;It has been said that to get w…</td></tr><tr><td>0</td><td>&quot;I didn&#x27;t purchase this product…</td></tr><tr><td>1</td><td>&quot;I thought that this Tomb Raide…</td></tr><tr><td>&hellip;</td><td>&hellip;</td></tr><tr><td>0</td><td>&quot;This is not a very deep album …</td></tr><tr><td>0</td><td>&quot;First off, Amazon is the great…</td></tr><tr><td>1</td><td>&quot;I find it a big large for an s…</td></tr><tr><td>1</td><td>&quot;The Black and Decker Loppers w…</td></tr><tr><td>0</td><td>&quot;Interesting experiment Jon, pl…</td></tr></tbody></table></div>"
      ],
      "text/plain": [
       "shape: (3_993_773, 2)\n",
       "┌───────────┬─────────────────────────────────┐\n",
       "│ sentiment ┆ review                          │\n",
       "│ ---       ┆ ---                             │\n",
       "│ i64       ┆ str                             │\n",
       "╞═══════════╪═════════════════════════════════╡\n",
       "│ 1         ┆ I have very dry skin and I usu… │\n",
       "│ 0         ┆ I own a HP5250.Good side, it i… │\n",
       "│ 1         ┆ It has been said that to get w… │\n",
       "│ 0         ┆ I didn't purchase this product… │\n",
       "│ 1         ┆ I thought that this Tomb Raide… │\n",
       "│ …         ┆ …                               │\n",
       "│ 0         ┆ This is not a very deep album … │\n",
       "│ 0         ┆ First off, Amazon is the great… │\n",
       "│ 1         ┆ I find it a big large for an s… │\n",
       "│ 1         ┆ The Black and Decker Loppers w… │\n",
       "│ 0         ┆ Interesting experiment Jon, pl… │\n",
       "└───────────┴─────────────────────────────────┘"
      ]
     },
     "execution_count": 11,
     "metadata": {},
     "output_type": "execute_result"
    }
   ],
   "source": [
    "df = pl.read_csv('./data/final_dataset.csv')\n",
    "df.head()"
   ]
  },
  {
   "cell_type": "markdown",
   "metadata": {},
   "source": [
    "# Preprocessing"
   ]
  },
  {
   "cell_type": "code",
   "execution_count": 14,
   "metadata": {},
   "outputs": [],
   "source": [
    "import re"
   ]
  },
  {
   "cell_type": "code",
   "execution_count": 15,
   "metadata": {},
   "outputs": [],
   "source": [
    "TAG_RE = re.compile(r'<[^>]+>')\n",
    "\n",
    "def remove_tags(text):\n",
    "    return TAG_RE.sub('', text)"
   ]
  },
  {
   "cell_type": "code",
   "execution_count": null,
   "metadata": {},
   "outputs": [],
   "source": []
  }
 ],
 "metadata": {
  "kernelspec": {
   "display_name": "pytorch",
   "language": "python",
   "name": "python3"
  },
  "language_info": {
   "codemirror_mode": {
    "name": "ipython",
    "version": 3
   },
   "file_extension": ".py",
   "mimetype": "text/x-python",
   "name": "python",
   "nbconvert_exporter": "python",
   "pygments_lexer": "ipython3",
   "version": "3.10.14"
  }
 },
 "nbformat": 4,
 "nbformat_minor": 2
}
