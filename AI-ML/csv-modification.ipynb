{
 "cells": [
  {
   "cell_type": "code",
   "execution_count": 1,
   "metadata": {},
   "outputs": [],
   "source": [
    "import polars as pl\n",
    "import numpy as np"
   ]
  },
  {
   "cell_type": "code",
   "execution_count": 2,
   "metadata": {},
   "outputs": [
    {
     "data": {
      "text/html": [
       "<div><style>\n",
       ".dataframe > thead > tr,\n",
       ".dataframe > tbody > tr {\n",
       "  text-align: right;\n",
       "  white-space: pre-wrap;\n",
       "}\n",
       "</style>\n",
       "<small>shape: (5, 3)</small><table border=\"1\" class=\"dataframe\"><thead><tr><th>class_index</th><th>review_title</th><th>review_text</th></tr><tr><td>i64</td><td>str</td><td>str</td></tr></thead><tbody><tr><td>3</td><td>&quot;more like funchuck&quot;</td><td>&quot;Gave this to my dad for a gag …</td></tr><tr><td>5</td><td>&quot;Inspiring&quot;</td><td>&quot;I hope a lot of people hear th…</td></tr><tr><td>5</td><td>&quot;The best soundtrack ever to an…</td><td>&quot;I&#x27;m reading a lot of reviews s…</td></tr><tr><td>4</td><td>&quot;Chrono Cross OST&quot;</td><td>&quot;The music of Yasunori Misuda i…</td></tr><tr><td>5</td><td>&quot;Too good to be true&quot;</td><td>&quot;Probably the greatest soundtra…</td></tr></tbody></table></div>"
      ],
      "text/plain": [
       "shape: (5, 3)\n",
       "┌─────────────┬─────────────────────────────────┬─────────────────────────────────┐\n",
       "│ class_index ┆ review_title                    ┆ review_text                     │\n",
       "│ ---         ┆ ---                             ┆ ---                             │\n",
       "│ i64         ┆ str                             ┆ str                             │\n",
       "╞═════════════╪═════════════════════════════════╪═════════════════════════════════╡\n",
       "│ 3           ┆ more like funchuck              ┆ Gave this to my dad for a gag … │\n",
       "│ 5           ┆ Inspiring                       ┆ I hope a lot of people hear th… │\n",
       "│ 5           ┆ The best soundtrack ever to an… ┆ I'm reading a lot of reviews s… │\n",
       "│ 4           ┆ Chrono Cross OST                ┆ The music of Yasunori Misuda i… │\n",
       "│ 5           ┆ Too good to be true             ┆ Probably the greatest soundtra… │\n",
       "└─────────────┴─────────────────────────────────┴─────────────────────────────────┘"
      ]
     },
     "execution_count": 2,
     "metadata": {},
     "output_type": "execute_result"
    }
   ],
   "source": [
    "train_csv = pl.read_csv('./data/train.csv')\n",
    "train_csv.head()"
   ]
  },
  {
   "cell_type": "code",
   "execution_count": 3,
   "metadata": {},
   "outputs": [
    {
     "data": {
      "text/html": [
       "<div><style>\n",
       ".dataframe > thead > tr,\n",
       ".dataframe > tbody > tr {\n",
       "  text-align: right;\n",
       "  white-space: pre-wrap;\n",
       "}\n",
       "</style>\n",
       "<small>shape: (3_000_000,)</small><table border=\"1\" class=\"dataframe\"><thead><tr><th>review_title</th></tr><tr><td>str</td></tr></thead><tbody><tr><td>&quot;more like funchuck&quot;</td></tr><tr><td>&quot;Inspiring&quot;</td></tr><tr><td>&quot;The best soundtrack ever to an…</td></tr><tr><td>&quot;Chrono Cross OST&quot;</td></tr><tr><td>&quot;Too good to be true&quot;</td></tr><tr><td>&hellip;</td></tr><tr><td>&quot;Don&#x27;t do it!!&quot;</td></tr><tr><td>&quot;Looks nice, low functionality&quot;</td></tr><tr><td>&quot;compact, but hard to clean&quot;</td></tr><tr><td>&quot;Hard to clean!&quot;</td></tr><tr><td>&quot;what is it saying?&quot;</td></tr></tbody></table></div>"
      ],
      "text/plain": [
       "shape: (3_000_000,)\n",
       "Series: 'review_title' [str]\n",
       "[\n",
       "\t\"more like funchuck\"\n",
       "\t\"Inspiring\"\n",
       "\t\"The best soundtrack ever to an…\n",
       "\t\"Chrono Cross OST\"\n",
       "\t\"Too good to be true\"\n",
       "\t…\n",
       "\t\"Don't do it!!\"\n",
       "\t\"Looks nice, low functionality\"\n",
       "\t\"compact, but hard to clean\"\n",
       "\t\"Hard to clean!\"\n",
       "\t\"what is it saying?\"\n",
       "]"
      ]
     },
     "execution_count": 3,
     "metadata": {},
     "output_type": "execute_result"
    }
   ],
   "source": [
    "train_csv.drop_in_place('review_title')"
   ]
  },
  {
   "cell_type": "code",
   "execution_count": 4,
   "metadata": {},
   "outputs": [
    {
     "data": {
      "text/html": [
       "<div><style>\n",
       ".dataframe > thead > tr,\n",
       ".dataframe > tbody > tr {\n",
       "  text-align: right;\n",
       "  white-space: pre-wrap;\n",
       "}\n",
       "</style>\n",
       "<small>shape: (5, 2)</small><table border=\"1\" class=\"dataframe\"><thead><tr><th>class_index</th><th>review_text</th></tr><tr><td>i64</td><td>str</td></tr></thead><tbody><tr><td>3</td><td>&quot;Gave this to my dad for a gag …</td></tr><tr><td>5</td><td>&quot;I hope a lot of people hear th…</td></tr><tr><td>5</td><td>&quot;I&#x27;m reading a lot of reviews s…</td></tr><tr><td>4</td><td>&quot;The music of Yasunori Misuda i…</td></tr><tr><td>5</td><td>&quot;Probably the greatest soundtra…</td></tr></tbody></table></div>"
      ],
      "text/plain": [
       "shape: (5, 2)\n",
       "┌─────────────┬─────────────────────────────────┐\n",
       "│ class_index ┆ review_text                     │\n",
       "│ ---         ┆ ---                             │\n",
       "│ i64         ┆ str                             │\n",
       "╞═════════════╪═════════════════════════════════╡\n",
       "│ 3           ┆ Gave this to my dad for a gag … │\n",
       "│ 5           ┆ I hope a lot of people hear th… │\n",
       "│ 5           ┆ I'm reading a lot of reviews s… │\n",
       "│ 4           ┆ The music of Yasunori Misuda i… │\n",
       "│ 5           ┆ Probably the greatest soundtra… │\n",
       "└─────────────┴─────────────────────────────────┘"
      ]
     },
     "execution_count": 4,
     "metadata": {},
     "output_type": "execute_result"
    }
   ],
   "source": [
    "train_csv.head()"
   ]
  },
  {
   "cell_type": "code",
   "execution_count": 5,
   "metadata": {},
   "outputs": [
    {
     "data": {
      "text/html": [
       "<div><style>\n",
       ".dataframe > thead > tr,\n",
       ".dataframe > tbody > tr {\n",
       "  text-align: right;\n",
       "  white-space: pre-wrap;\n",
       "}\n",
       "</style>\n",
       "<small>shape: (5,)</small><table border=\"1\" class=\"dataframe\"><thead><tr><th>class_index</th></tr><tr><td>i64</td></tr></thead><tbody><tr><td>1</td></tr><tr><td>2</td></tr><tr><td>3</td></tr><tr><td>4</td></tr><tr><td>5</td></tr></tbody></table></div>"
      ],
      "text/plain": [
       "shape: (5,)\n",
       "Series: 'class_index' [i64]\n",
       "[\n",
       "\t1\n",
       "\t2\n",
       "\t3\n",
       "\t4\n",
       "\t5\n",
       "]"
      ]
     },
     "execution_count": 5,
     "metadata": {},
     "output_type": "execute_result"
    }
   ],
   "source": [
    "train_csv['class_index'].unique()"
   ]
  },
  {
   "cell_type": "code",
   "execution_count": 6,
   "metadata": {},
   "outputs": [
    {
     "data": {
      "text/html": [
       "<div><style>\n",
       ".dataframe > thead > tr,\n",
       ".dataframe > tbody > tr {\n",
       "  text-align: right;\n",
       "  white-space: pre-wrap;\n",
       "}\n",
       "</style>\n",
       "<small>shape: (650_000,)</small><table border=\"1\" class=\"dataframe\"><thead><tr><th>review_title</th></tr><tr><td>str</td></tr></thead><tbody><tr><td>&quot;mens ultrasheer&quot;</td></tr><tr><td>&quot;Surprisingly delightful&quot;</td></tr><tr><td>&quot;Works, but not as advertised&quot;</td></tr><tr><td>&quot;Oh dear&quot;</td></tr><tr><td>&quot;Incorrect disc!&quot;</td></tr><tr><td>&hellip;</td></tr><tr><td>&quot;Pretty Cool!&quot;</td></tr><tr><td>&quot;great cd&quot;</td></tr><tr><td>&quot;An interesting look into Bosto…</td></tr><tr><td>&quot;Du vol...pour les cowboys!&quot;</td></tr><tr><td>&quot;A Companion Read To GUNS, GERM…</td></tr></tbody></table></div>"
      ],
      "text/plain": [
       "shape: (650_000,)\n",
       "Series: 'review_title' [str]\n",
       "[\n",
       "\t\"mens ultrasheer\"\n",
       "\t\"Surprisingly delightful\"\n",
       "\t\"Works, but not as advertised\"\n",
       "\t\"Oh dear\"\n",
       "\t\"Incorrect disc!\"\n",
       "\t…\n",
       "\t\"Pretty Cool!\"\n",
       "\t\"great cd\"\n",
       "\t\"An interesting look into Bosto…\n",
       "\t\"Du vol...pour les cowboys!\"\n",
       "\t\"A Companion Read To GUNS, GERM…\n",
       "]"
      ]
     },
     "execution_count": 6,
     "metadata": {},
     "output_type": "execute_result"
    }
   ],
   "source": [
    "test_csv = pl.read_csv('./data/test.csv')\n",
    "test_csv.drop_in_place('review_title')"
   ]
  },
  {
   "cell_type": "code",
   "execution_count": 7,
   "metadata": {},
   "outputs": [
    {
     "data": {
      "text/html": [
       "<div><style>\n",
       ".dataframe > thead > tr,\n",
       ".dataframe > tbody > tr {\n",
       "  text-align: right;\n",
       "  white-space: pre-wrap;\n",
       "}\n",
       "</style>\n",
       "<small>shape: (5, 2)</small><table border=\"1\" class=\"dataframe\"><thead><tr><th>class_index</th><th>review_text</th></tr><tr><td>i64</td><td>str</td></tr></thead><tbody><tr><td>3</td><td>&quot;Gave this to my dad for a gag …</td></tr><tr><td>5</td><td>&quot;I hope a lot of people hear th…</td></tr><tr><td>5</td><td>&quot;I&#x27;m reading a lot of reviews s…</td></tr><tr><td>4</td><td>&quot;The music of Yasunori Misuda i…</td></tr><tr><td>5</td><td>&quot;Probably the greatest soundtra…</td></tr></tbody></table></div>"
      ],
      "text/plain": [
       "shape: (5, 2)\n",
       "┌─────────────┬─────────────────────────────────┐\n",
       "│ class_index ┆ review_text                     │\n",
       "│ ---         ┆ ---                             │\n",
       "│ i64         ┆ str                             │\n",
       "╞═════════════╪═════════════════════════════════╡\n",
       "│ 3           ┆ Gave this to my dad for a gag … │\n",
       "│ 5           ┆ I hope a lot of people hear th… │\n",
       "│ 5           ┆ I'm reading a lot of reviews s… │\n",
       "│ 4           ┆ The music of Yasunori Misuda i… │\n",
       "│ 5           ┆ Probably the greatest soundtra… │\n",
       "└─────────────┴─────────────────────────────────┘"
      ]
     },
     "execution_count": 7,
     "metadata": {},
     "output_type": "execute_result"
    }
   ],
   "source": [
    "train_csv.head()"
   ]
  },
  {
   "cell_type": "code",
   "execution_count": 8,
   "metadata": {},
   "outputs": [
    {
     "data": {
      "text/html": [
       "<div><style>\n",
       ".dataframe > thead > tr,\n",
       ".dataframe > tbody > tr {\n",
       "  text-align: right;\n",
       "  white-space: pre-wrap;\n",
       "}\n",
       "</style>\n",
       "<small>shape: (5, 2)</small><table border=\"1\" class=\"dataframe\"><thead><tr><th>class_index</th><th>review_text</th></tr><tr><td>i64</td><td>str</td></tr></thead><tbody><tr><td>1</td><td>&quot;This model may be ok for seden…</td></tr><tr><td>4</td><td>&quot;This is a fast read filled wit…</td></tr><tr><td>2</td><td>&quot;I bought one of these chargers…</td></tr><tr><td>2</td><td>&quot;I was excited to find a book o…</td></tr><tr><td>2</td><td>&quot;I am a big JVC fan, but I do n…</td></tr></tbody></table></div>"
      ],
      "text/plain": [
       "shape: (5, 2)\n",
       "┌─────────────┬─────────────────────────────────┐\n",
       "│ class_index ┆ review_text                     │\n",
       "│ ---         ┆ ---                             │\n",
       "│ i64         ┆ str                             │\n",
       "╞═════════════╪═════════════════════════════════╡\n",
       "│ 1           ┆ This model may be ok for seden… │\n",
       "│ 4           ┆ This is a fast read filled wit… │\n",
       "│ 2           ┆ I bought one of these chargers… │\n",
       "│ 2           ┆ I was excited to find a book o… │\n",
       "│ 2           ┆ I am a big JVC fan, but I do n… │\n",
       "└─────────────┴─────────────────────────────────┘"
      ]
     },
     "execution_count": 8,
     "metadata": {},
     "output_type": "execute_result"
    }
   ],
   "source": [
    "test_csv.head()"
   ]
  },
  {
   "cell_type": "code",
   "execution_count": 9,
   "metadata": {},
   "outputs": [],
   "source": [
    "df_final = pl.concat([train_csv, test_csv])"
   ]
  },
  {
   "cell_type": "code",
   "execution_count": 10,
   "metadata": {},
   "outputs": [
    {
     "data": {
      "text/html": [
       "<div><style>\n",
       ".dataframe > thead > tr,\n",
       ".dataframe > tbody > tr {\n",
       "  text-align: right;\n",
       "  white-space: pre-wrap;\n",
       "}\n",
       "</style>\n",
       "<small>shape: (1, 2)</small><table border=\"1\" class=\"dataframe\"><thead><tr><th>class_index</th><th>review_text</th></tr><tr><td>u32</td><td>u32</td></tr></thead><tbody><tr><td>3000000</td><td>3000000</td></tr></tbody></table></div>"
      ],
      "text/plain": [
       "shape: (1, 2)\n",
       "┌─────────────┬─────────────┐\n",
       "│ class_index ┆ review_text │\n",
       "│ ---         ┆ ---         │\n",
       "│ u32         ┆ u32         │\n",
       "╞═════════════╪═════════════╡\n",
       "│ 3000000     ┆ 3000000     │\n",
       "└─────────────┴─────────────┘"
      ]
     },
     "execution_count": 10,
     "metadata": {},
     "output_type": "execute_result"
    }
   ],
   "source": [
    "train_csv.count()"
   ]
  },
  {
   "cell_type": "code",
   "execution_count": 11,
   "metadata": {},
   "outputs": [
    {
     "data": {
      "text/html": [
       "<div><style>\n",
       ".dataframe > thead > tr,\n",
       ".dataframe > tbody > tr {\n",
       "  text-align: right;\n",
       "  white-space: pre-wrap;\n",
       "}\n",
       "</style>\n",
       "<small>shape: (1, 2)</small><table border=\"1\" class=\"dataframe\"><thead><tr><th>class_index</th><th>review_text</th></tr><tr><td>u32</td><td>u32</td></tr></thead><tbody><tr><td>650000</td><td>650000</td></tr></tbody></table></div>"
      ],
      "text/plain": [
       "shape: (1, 2)\n",
       "┌─────────────┬─────────────┐\n",
       "│ class_index ┆ review_text │\n",
       "│ ---         ┆ ---         │\n",
       "│ u32         ┆ u32         │\n",
       "╞═════════════╪═════════════╡\n",
       "│ 650000      ┆ 650000      │\n",
       "└─────────────┴─────────────┘"
      ]
     },
     "execution_count": 11,
     "metadata": {},
     "output_type": "execute_result"
    }
   ],
   "source": [
    "test_csv.count()"
   ]
  },
  {
   "cell_type": "code",
   "execution_count": 12,
   "metadata": {},
   "outputs": [
    {
     "data": {
      "text/html": [
       "<div><style>\n",
       ".dataframe > thead > tr,\n",
       ".dataframe > tbody > tr {\n",
       "  text-align: right;\n",
       "  white-space: pre-wrap;\n",
       "}\n",
       "</style>\n",
       "<small>shape: (1, 2)</small><table border=\"1\" class=\"dataframe\"><thead><tr><th>class_index</th><th>review_text</th></tr><tr><td>u32</td><td>u32</td></tr></thead><tbody><tr><td>3650000</td><td>3650000</td></tr></tbody></table></div>"
      ],
      "text/plain": [
       "shape: (1, 2)\n",
       "┌─────────────┬─────────────┐\n",
       "│ class_index ┆ review_text │\n",
       "│ ---         ┆ ---         │\n",
       "│ u32         ┆ u32         │\n",
       "╞═════════════╪═════════════╡\n",
       "│ 3650000     ┆ 3650000     │\n",
       "└─────────────┴─────────────┘"
      ]
     },
     "execution_count": 12,
     "metadata": {},
     "output_type": "execute_result"
    }
   ],
   "source": [
    "df_final.count()"
   ]
  },
  {
   "cell_type": "code",
   "execution_count": 13,
   "metadata": {},
   "outputs": [],
   "source": [
    "review_to_sentiment = {\n",
    "    1 : 0,\n",
    "    2 : 0,\n",
    "    3 : 1,\n",
    "    4 : 2,\n",
    "    5 : 2\n",
    "}"
   ]
  },
  {
   "cell_type": "code",
   "execution_count": 14,
   "metadata": {},
   "outputs": [],
   "source": [
    "df_final = df_final.with_columns(\n",
    "    pl.col('class_index').replace_strict(review_to_sentiment).alias('sentiment')\n",
    ")"
   ]
  },
  {
   "cell_type": "code",
   "execution_count": 15,
   "metadata": {},
   "outputs": [
    {
     "data": {
      "text/plain": [
       "'Gave this to my dad for a gag gift after directing \"Nunsense,\" he got a reall kick out of it!'"
      ]
     },
     "execution_count": 15,
     "metadata": {},
     "output_type": "execute_result"
    }
   ],
   "source": [
    "df_final[0, 1]"
   ]
  },
  {
   "cell_type": "code",
   "execution_count": 16,
   "metadata": {},
   "outputs": [
    {
     "data": {
      "text/html": [
       "<div><style>\n",
       ".dataframe > thead > tr,\n",
       ".dataframe > tbody > tr {\n",
       "  text-align: right;\n",
       "  white-space: pre-wrap;\n",
       "}\n",
       "</style>\n",
       "<small>shape: (5, 3)</small><table border=\"1\" class=\"dataframe\"><thead><tr><th>class_index</th><th>review_text</th><th>sentiment</th></tr><tr><td>i64</td><td>str</td><td>i64</td></tr></thead><tbody><tr><td>3</td><td>&quot;Gave this to my dad for a gag …</td><td>1</td></tr><tr><td>5</td><td>&quot;I hope a lot of people hear th…</td><td>2</td></tr><tr><td>5</td><td>&quot;I&#x27;m reading a lot of reviews s…</td><td>2</td></tr><tr><td>4</td><td>&quot;The music of Yasunori Misuda i…</td><td>2</td></tr><tr><td>5</td><td>&quot;Probably the greatest soundtra…</td><td>2</td></tr></tbody></table></div>"
      ],
      "text/plain": [
       "shape: (5, 3)\n",
       "┌─────────────┬─────────────────────────────────┬───────────┐\n",
       "│ class_index ┆ review_text                     ┆ sentiment │\n",
       "│ ---         ┆ ---                             ┆ ---       │\n",
       "│ i64         ┆ str                             ┆ i64       │\n",
       "╞═════════════╪═════════════════════════════════╪═══════════╡\n",
       "│ 3           ┆ Gave this to my dad for a gag … ┆ 1         │\n",
       "│ 5           ┆ I hope a lot of people hear th… ┆ 2         │\n",
       "│ 5           ┆ I'm reading a lot of reviews s… ┆ 2         │\n",
       "│ 4           ┆ The music of Yasunori Misuda i… ┆ 2         │\n",
       "│ 5           ┆ Probably the greatest soundtra… ┆ 2         │\n",
       "└─────────────┴─────────────────────────────────┴───────────┘"
      ]
     },
     "execution_count": 16,
     "metadata": {},
     "output_type": "execute_result"
    }
   ],
   "source": [
    "df_final.head()"
   ]
  },
  {
   "cell_type": "code",
   "execution_count": 18,
   "metadata": {},
   "outputs": [],
   "source": [
    "df_final.write_csv('./data/final_dataset.csv')"
   ]
  },
  {
   "cell_type": "code",
   "execution_count": null,
   "metadata": {},
   "outputs": [],
   "source": []
  }
 ],
 "metadata": {
  "kernelspec": {
   "display_name": "pytorch",
   "language": "python",
   "name": "python3"
  },
  "language_info": {
   "codemirror_mode": {
    "name": "ipython",
    "version": 3
   },
   "file_extension": ".py",
   "mimetype": "text/x-python",
   "name": "python",
   "nbconvert_exporter": "python",
   "pygments_lexer": "ipython3",
   "version": "3.10.14"
  }
 },
 "nbformat": 4,
 "nbformat_minor": 2
}
