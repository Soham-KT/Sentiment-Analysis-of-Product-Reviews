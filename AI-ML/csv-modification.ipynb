{
 "cells": [
  {
   "cell_type": "code",
   "execution_count": 1,
   "metadata": {},
   "outputs": [],
   "source": [
    "import polars as pl\n",
    "import numpy as np\n",
    "import matplotlib.pyplot as plt\n",
    "import seaborn as sns"
   ]
  },
  {
   "cell_type": "code",
   "execution_count": 2,
   "metadata": {},
   "outputs": [],
   "source": [
    "df = pl.read_csv('./data/train.csv')\n",
    "print(df)"
   ]
  },
  {
   "cell_type": "code",
   "execution_count": 5,
   "metadata": {},
   "outputs": [
    {
     "data": {
      "text/html": [
       "<div><style>\n",
       ".dataframe > thead > tr,\n",
       ".dataframe > tbody > tr {\n",
       "  text-align: right;\n",
       "  white-space: pre-wrap;\n",
       "}\n",
       "</style>\n",
       "<small>shape: (5, 3)</small><table border=\"1\" class=\"dataframe\"><thead><tr><th>2</th><th>Stuning even for the non-gamer</th><th>This sound track was beautiful! It paints the senery in your mind so well I would recomend it even to people who hate vid. game music! I have played the game Chrono Cross but out of all of the games I have ever played it has the best music! It backs away from crude keyboarding and takes a fresher step with grate guitars and soulful orchestras. It would impress anyone who cares to listen! ^_^</th></tr><tr><td>i64</td><td>str</td><td>str</td></tr></thead><tbody><tr><td>2</td><td>&quot;The best soundtrack ever to an…</td><td>&quot;I&#x27;m reading a lot of reviews s…</td></tr><tr><td>2</td><td>&quot;Amazing!&quot;</td><td>&quot;This soundtrack is my favorite…</td></tr><tr><td>2</td><td>&quot;Excellent Soundtrack&quot;</td><td>&quot;I truly like this soundtrack a…</td></tr><tr><td>2</td><td>&quot;Remember, Pull Your Jaw Off Th…</td><td>&quot;If you&#x27;ve played the game, you…</td></tr><tr><td>2</td><td>&quot;an absolute masterpiece&quot;</td><td>&quot;I am quite sure any of you act…</td></tr></tbody></table></div>"
      ],
      "text/plain": [
       "shape: (5, 3)\n",
       "┌─────┬─────────────────────────────────┬─────────────────────────────────┐\n",
       "│ 2   ┆ Stuning even for the non-gamer  ┆ This sound track was beautiful… │\n",
       "│ --- ┆ ---                             ┆ ---                             │\n",
       "│ i64 ┆ str                             ┆ str                             │\n",
       "╞═════╪═════════════════════════════════╪═════════════════════════════════╡\n",
       "│ 2   ┆ The best soundtrack ever to an… ┆ I'm reading a lot of reviews s… │\n",
       "│ 2   ┆ Amazing!                        ┆ This soundtrack is my favorite… │\n",
       "│ 2   ┆ Excellent Soundtrack            ┆ I truly like this soundtrack a… │\n",
       "│ 2   ┆ Remember, Pull Your Jaw Off Th… ┆ If you've played the game, you… │\n",
       "│ 2   ┆ an absolute masterpiece         ┆ I am quite sure any of you act… │\n",
       "└─────┴─────────────────────────────────┴─────────────────────────────────┘"
      ]
     },
     "execution_count": 5,
     "metadata": {},
     "output_type": "execute_result"
    }
   ],
   "source": [
    "df.head()"
   ]
  },
  {
   "cell_type": "code",
   "execution_count": 6,
   "metadata": {},
   "outputs": [
    {
     "data": {
      "text/html": [
       "<div><style>\n",
       ".dataframe > thead > tr,\n",
       ".dataframe > tbody > tr {\n",
       "  text-align: right;\n",
       "  white-space: pre-wrap;\n",
       "}\n",
       "</style>\n",
       "<small>shape: (5, 3)</small><table border=\"1\" class=\"dataframe\"><thead><tr><th>sentiment</th><th>review_heading</th><th>review</th></tr><tr><td>i64</td><td>str</td><td>str</td></tr></thead><tbody><tr><td>2</td><td>&quot;The best soundtrack ever to an…</td><td>&quot;I&#x27;m reading a lot of reviews s…</td></tr><tr><td>2</td><td>&quot;Amazing!&quot;</td><td>&quot;This soundtrack is my favorite…</td></tr><tr><td>2</td><td>&quot;Excellent Soundtrack&quot;</td><td>&quot;I truly like this soundtrack a…</td></tr><tr><td>2</td><td>&quot;Remember, Pull Your Jaw Off Th…</td><td>&quot;If you&#x27;ve played the game, you…</td></tr><tr><td>2</td><td>&quot;an absolute masterpiece&quot;</td><td>&quot;I am quite sure any of you act…</td></tr></tbody></table></div>"
      ],
      "text/plain": [
       "shape: (5, 3)\n",
       "┌───────────┬─────────────────────────────────┬─────────────────────────────────┐\n",
       "│ sentiment ┆ review_heading                  ┆ review                          │\n",
       "│ ---       ┆ ---                             ┆ ---                             │\n",
       "│ i64       ┆ str                             ┆ str                             │\n",
       "╞═══════════╪═════════════════════════════════╪═════════════════════════════════╡\n",
       "│ 2         ┆ The best soundtrack ever to an… ┆ I'm reading a lot of reviews s… │\n",
       "│ 2         ┆ Amazing!                        ┆ This soundtrack is my favorite… │\n",
       "│ 2         ┆ Excellent Soundtrack            ┆ I truly like this soundtrack a… │\n",
       "│ 2         ┆ Remember, Pull Your Jaw Off Th… ┆ If you've played the game, you… │\n",
       "│ 2         ┆ an absolute masterpiece         ┆ I am quite sure any of you act… │\n",
       "└───────────┴─────────────────────────────────┴─────────────────────────────────┘"
      ]
     },
     "execution_count": 6,
     "metadata": {},
     "output_type": "execute_result"
    }
   ],
   "source": [
    "df.columns = ['sentiment', 'review_heading', 'review']\n",
    "df.head()"
   ]
  },
  {
   "cell_type": "code",
   "execution_count": 7,
   "metadata": {},
   "outputs": [
    {
     "data": {
      "text/html": [
       "<div><style>\n",
       ".dataframe > thead > tr,\n",
       ".dataframe > tbody > tr {\n",
       "  text-align: right;\n",
       "  white-space: pre-wrap;\n",
       "}\n",
       "</style>\n",
       "<small>shape: (5, 2)</small><table border=\"1\" class=\"dataframe\"><thead><tr><th>sentiment</th><th>review</th></tr><tr><td>i64</td><td>str</td></tr></thead><tbody><tr><td>2</td><td>&quot;I&#x27;m reading a lot of reviews s…</td></tr><tr><td>2</td><td>&quot;This soundtrack is my favorite…</td></tr><tr><td>2</td><td>&quot;I truly like this soundtrack a…</td></tr><tr><td>2</td><td>&quot;If you&#x27;ve played the game, you…</td></tr><tr><td>2</td><td>&quot;I am quite sure any of you act…</td></tr></tbody></table></div>"
      ],
      "text/plain": [
       "shape: (5, 2)\n",
       "┌───────────┬─────────────────────────────────┐\n",
       "│ sentiment ┆ review                          │\n",
       "│ ---       ┆ ---                             │\n",
       "│ i64       ┆ str                             │\n",
       "╞═══════════╪═════════════════════════════════╡\n",
       "│ 2         ┆ I'm reading a lot of reviews s… │\n",
       "│ 2         ┆ This soundtrack is my favorite… │\n",
       "│ 2         ┆ I truly like this soundtrack a… │\n",
       "│ 2         ┆ If you've played the game, you… │\n",
       "│ 2         ┆ I am quite sure any of you act… │\n",
       "└───────────┴─────────────────────────────────┘"
      ]
     },
     "execution_count": 7,
     "metadata": {},
     "output_type": "execute_result"
    }
   ],
   "source": [
    "df.drop_in_place('review_heading')\n",
    "df.head()"
   ]
  },
  {
   "cell_type": "code",
   "execution_count": 8,
   "metadata": {},
   "outputs": [],
   "source": [
    "df = df.with_columns(\n",
    "    pl.col('sentiment').map_elements(lambda x: 0 if x == 1 else 1)\n",
    ")"
   ]
  },
  {
   "cell_type": "code",
   "execution_count": 22,
   "metadata": {},
   "outputs": [],
   "source": [
    "df.write_csv('./data/Latest_train.csv')"
   ]
  },
  {
   "cell_type": "code",
   "execution_count": 8,
   "metadata": {},
   "outputs": [
    {
     "data": {
      "text/html": [
       "<div><style>\n",
       ".dataframe > thead > tr,\n",
       ".dataframe > tbody > tr {\n",
       "  text-align: right;\n",
       "  white-space: pre-wrap;\n",
       "}\n",
       "</style>\n",
       "<small>shape: (5, 2)</small><table border=\"1\" class=\"dataframe\"><thead><tr><th>sentiment</th><th>review</th></tr><tr><td>i64</td><td>str</td></tr></thead><tbody><tr><td>1</td><td>&quot;I&#x27;m reading a lot of reviews s…</td></tr><tr><td>1</td><td>&quot;This soundtrack is my favorite…</td></tr><tr><td>1</td><td>&quot;I truly like this soundtrack a…</td></tr><tr><td>1</td><td>&quot;If you&#x27;ve played the game, you…</td></tr><tr><td>1</td><td>&quot;I am quite sure any of you act…</td></tr></tbody></table></div>"
      ],
      "text/plain": [
       "shape: (5, 2)\n",
       "┌───────────┬─────────────────────────────────┐\n",
       "│ sentiment ┆ review                          │\n",
       "│ ---       ┆ ---                             │\n",
       "│ i64       ┆ str                             │\n",
       "╞═══════════╪═════════════════════════════════╡\n",
       "│ 1         ┆ I'm reading a lot of reviews s… │\n",
       "│ 1         ┆ This soundtrack is my favorite… │\n",
       "│ 1         ┆ I truly like this soundtrack a… │\n",
       "│ 1         ┆ If you've played the game, you… │\n",
       "│ 1         ┆ I am quite sure any of you act… │\n",
       "└───────────┴─────────────────────────────────┘"
      ]
     },
     "execution_count": 8,
     "metadata": {},
     "output_type": "execute_result"
    }
   ],
   "source": [
    "df_new = pl.read_csv('./data/Latest_train.csv')\n",
    "df_new.head()"
   ]
  },
  {
   "cell_type": "code",
   "execution_count": 9,
   "metadata": {},
   "outputs": [
    {
     "data": {
      "text/plain": [
       "\"I'm reading a lot of reviews saying that this is the best 'game soundtrack' and I figured that I'd write a review to disagree a bit. This in my opinino is Yasunori Mitsuda's ultimate masterpiece. The music is timeless and I'm been listening to it for years now and its beauty simply refuses to fade.The price tag on this is pretty staggering I must say, but if you are going to buy any cd for this much money, this is the only one that I feel would be worth every penny.\""
      ]
     },
     "execution_count": 9,
     "metadata": {},
     "output_type": "execute_result"
    }
   ],
   "source": [
    "df_new['review'][0]"
   ]
  },
  {
   "cell_type": "code",
   "execution_count": 10,
   "metadata": {},
   "outputs": [],
   "source": [
    "df_test = pl.read_csv('./data/test.csv')\n",
    "df_test.columns = ['sentiment', 'review_heading', 'review']\n",
    "df_test.drop_in_place('review_heading')\n",
    "df_test = df_test.with_columns(\n",
    "    pl.col('sentiment').map_elements(lambda x: 0 if x == 1 else 1)\n",
    ")\n",
    "df_test.write_csv('./data/Latest_test.csv')"
   ]
  },
  {
   "cell_type": "code",
   "execution_count": 11,
   "metadata": {},
   "outputs": [
    {
     "name": "stdout",
     "output_type": "stream",
     "text": [
      "shape: (3_599_999, 2)\n",
      "┌───────────┬─────────────────────────────────┐\n",
      "│ sentiment ┆ review                          │\n",
      "│ ---       ┆ ---                             │\n",
      "│ i64       ┆ str                             │\n",
      "╞═══════════╪═════════════════════════════════╡\n",
      "│ 1         ┆ I'm reading a lot of reviews s… │\n",
      "│ 1         ┆ This soundtrack is my favorite… │\n",
      "│ 1         ┆ I truly like this soundtrack a… │\n",
      "│ 1         ┆ If you've played the game, you… │\n",
      "│ 1         ┆ I am quite sure any of you act… │\n",
      "│ …         ┆ …                               │\n",
      "│ 0         ┆ The high chair looks great whe… │\n",
      "│ 0         ┆ I have used this highchair for… │\n",
      "│ 0         ┆ We have a small house, and rea… │\n",
      "│ 0         ┆ not sure what this book is sup… │\n",
      "│ 1         ┆ I agree that every American sh… │\n",
      "└───────────┴─────────────────────────────────┘\n"
     ]
    }
   ],
   "source": [
    "print(df_new)"
   ]
  },
  {
   "cell_type": "code",
   "execution_count": 12,
   "metadata": {},
   "outputs": [
    {
     "name": "stdout",
     "output_type": "stream",
     "text": [
      "shape: (399_999, 2)\n",
      "┌───────────┬─────────────────────────────────┐\n",
      "│ sentiment ┆ review                          │\n",
      "│ ---       ┆ ---                             │\n",
      "│ i64       ┆ str                             │\n",
      "╞═══════════╪═════════════════════════════════╡\n",
      "│ 1         ┆ Despite the fact that I have o… │\n",
      "│ 0         ┆ I bought this charger in Jul 2… │\n",
      "│ 1         ┆ Check out Maha Energy's websit… │\n",
      "│ 1         ┆ Reviewed quite a bit of the co… │\n",
      "│ 0         ┆ I also began having the incorr… │\n",
      "│ …         ┆ …                               │\n",
      "│ 0         ┆ We bought this Thomas for our … │\n",
      "│ 0         ┆ My son recieved this as a birt… │\n",
      "│ 0         ┆ I bought this toy for my son w… │\n",
      "│ 1         ┆ This is a compilation of a wid… │\n",
      "│ 0         ┆ This DVD will be a disappointm… │\n",
      "└───────────┴─────────────────────────────────┘\n"
     ]
    }
   ],
   "source": [
    "print(df_test)"
   ]
  },
  {
   "cell_type": "code",
   "execution_count": 13,
   "metadata": {},
   "outputs": [
    {
     "name": "stdout",
     "output_type": "stream",
     "text": [
      "shape: (3_999_998, 2)\n",
      "┌───────────┬─────────────────────────────────┐\n",
      "│ sentiment ┆ review                          │\n",
      "│ ---       ┆ ---                             │\n",
      "│ i64       ┆ str                             │\n",
      "╞═══════════╪═════════════════════════════════╡\n",
      "│ 1         ┆ I'm reading a lot of reviews s… │\n",
      "│ 1         ┆ This soundtrack is my favorite… │\n",
      "│ 1         ┆ I truly like this soundtrack a… │\n",
      "│ 1         ┆ If you've played the game, you… │\n",
      "│ 1         ┆ I am quite sure any of you act… │\n",
      "│ …         ┆ …                               │\n",
      "│ 0         ┆ We bought this Thomas for our … │\n",
      "│ 0         ┆ My son recieved this as a birt… │\n",
      "│ 0         ┆ I bought this toy for my son w… │\n",
      "│ 1         ┆ This is a compilation of a wid… │\n",
      "│ 0         ┆ This DVD will be a disappointm… │\n",
      "└───────────┴─────────────────────────────────┘\n"
     ]
    }
   ],
   "source": [
    "final_df = pl.concat([df_new, df_test])\n",
    "print(final_df)"
   ]
  },
  {
   "cell_type": "code",
   "execution_count": 14,
   "metadata": {},
   "outputs": [],
   "source": [
    "final_df = final_df.with_columns(\n",
    "    pl.col('sentiment').map_elements(lambda x: 0 if x == 1 else 1)\n",
    ")"
   ]
  },
  {
   "cell_type": "code",
   "execution_count": 15,
   "metadata": {},
   "outputs": [
    {
     "name": "stdout",
     "output_type": "stream",
     "text": [
      "shape: (3_999_998, 2)\n",
      "┌───────────┬─────────────────────────────────┐\n",
      "│ sentiment ┆ review                          │\n",
      "│ ---       ┆ ---                             │\n",
      "│ i64       ┆ str                             │\n",
      "╞═══════════╪═════════════════════════════════╡\n",
      "│ 0         ┆ I'm reading a lot of reviews s… │\n",
      "│ 0         ┆ This soundtrack is my favorite… │\n",
      "│ 0         ┆ I truly like this soundtrack a… │\n",
      "│ 0         ┆ If you've played the game, you… │\n",
      "│ 0         ┆ I am quite sure any of you act… │\n",
      "│ …         ┆ …                               │\n",
      "│ 1         ┆ We bought this Thomas for our … │\n",
      "│ 1         ┆ My son recieved this as a birt… │\n",
      "│ 1         ┆ I bought this toy for my son w… │\n",
      "│ 0         ┆ This is a compilation of a wid… │\n",
      "│ 1         ┆ This DVD will be a disappointm… │\n",
      "└───────────┴─────────────────────────────────┘\n"
     ]
    }
   ],
   "source": [
    "print(final_df)"
   ]
  },
  {
   "cell_type": "code",
   "execution_count": 16,
   "metadata": {},
   "outputs": [],
   "source": [
    "# final_df.write_csv('./data/final_dataset.csv')"
   ]
  },
  {
   "cell_type": "code",
   "execution_count": null,
   "metadata": {},
   "outputs": [],
   "source": []
  }
 ],
 "metadata": {
  "kernelspec": {
   "display_name": "pytorch",
   "language": "python",
   "name": "python3"
  },
  "language_info": {
   "codemirror_mode": {
    "name": "ipython",
    "version": 3
   },
   "file_extension": ".py",
   "mimetype": "text/x-python",
   "name": "python",
   "nbconvert_exporter": "python",
   "pygments_lexer": "ipython3",
   "version": "3.10.14"
  }
 },
 "nbformat": 4,
 "nbformat_minor": 2
}
