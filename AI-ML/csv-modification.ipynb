{
 "cells": [
  {
   "cell_type": "code",
   "execution_count": 1,
   "metadata": {},
   "outputs": [],
   "source": [
    "import polars as pl\n",
    "import numpy as np\n",
    "import matplotlib.pyplot as plt\n",
    "import seaborn as sns"
   ]
  },
  {
   "cell_type": "code",
   "execution_count": 2,
   "metadata": {},
   "outputs": [
    {
     "name": "stdout",
     "output_type": "stream",
     "text": [
      "shape: (3_599_999, 3)\n",
      "┌─────┬─────────────────────────────────┬─────────────────────────────────┐\n",
      "│ 2   ┆ Stuning even for the non-gamer  ┆ This sound track was beautiful… │\n",
      "│ --- ┆ ---                             ┆ ---                             │\n",
      "│ i64 ┆ str                             ┆ str                             │\n",
      "╞═════╪═════════════════════════════════╪═════════════════════════════════╡\n",
      "│ 2   ┆ The best soundtrack ever to an… ┆ I'm reading a lot of reviews s… │\n",
      "│ 2   ┆ Amazing!                        ┆ This soundtrack is my favorite… │\n",
      "│ 2   ┆ Excellent Soundtrack            ┆ I truly like this soundtrack a… │\n",
      "│ 2   ┆ Remember, Pull Your Jaw Off Th… ┆ If you've played the game, you… │\n",
      "│ 2   ┆ an absolute masterpiece         ┆ I am quite sure any of you act… │\n",
      "│ …   ┆ …                               ┆ …                               │\n",
      "│ 1   ┆ Don't do it!!                   ┆ The high chair looks great whe… │\n",
      "│ 1   ┆ Looks nice, low functionality   ┆ I have used this highchair for… │\n",
      "│ 1   ┆ compact, but hard to clean      ┆ We have a small house, and rea… │\n",
      "│ 1   ┆ what is it saying?              ┆ not sure what this book is sup… │\n",
      "│ 2   ┆ Makes My Blood Run Red-White-A… ┆ I agree that every American sh… │\n",
      "└─────┴─────────────────────────────────┴─────────────────────────────────┘\n"
     ]
    }
   ],
   "source": [
    "df = pl.read_csv('./data/train.csv')\n",
    "print(df)"
   ]
  },
  {
   "cell_type": "code",
   "execution_count": 3,
   "metadata": {},
   "outputs": [
    {
     "data": {
      "text/html": [
       "<div><style>\n",
       ".dataframe > thead > tr,\n",
       ".dataframe > tbody > tr {\n",
       "  text-align: right;\n",
       "  white-space: pre-wrap;\n",
       "}\n",
       "</style>\n",
       "<small>shape: (5, 3)</small><table border=\"1\" class=\"dataframe\"><thead><tr><th>2</th><th>Stuning even for the non-gamer</th><th>This sound track was beautiful! It paints the senery in your mind so well I would recomend it even to people who hate vid. game music! I have played the game Chrono Cross but out of all of the games I have ever played it has the best music! It backs away from crude keyboarding and takes a fresher step with grate guitars and soulful orchestras. It would impress anyone who cares to listen! ^_^</th></tr><tr><td>i64</td><td>str</td><td>str</td></tr></thead><tbody><tr><td>2</td><td>&quot;The best soundtrack ever to an…</td><td>&quot;I&#x27;m reading a lot of reviews s…</td></tr><tr><td>2</td><td>&quot;Amazing!&quot;</td><td>&quot;This soundtrack is my favorite…</td></tr><tr><td>2</td><td>&quot;Excellent Soundtrack&quot;</td><td>&quot;I truly like this soundtrack a…</td></tr><tr><td>2</td><td>&quot;Remember, Pull Your Jaw Off Th…</td><td>&quot;If you&#x27;ve played the game, you…</td></tr><tr><td>2</td><td>&quot;an absolute masterpiece&quot;</td><td>&quot;I am quite sure any of you act…</td></tr></tbody></table></div>"
      ],
      "text/plain": [
       "shape: (5, 3)\n",
       "┌─────┬─────────────────────────────────┬─────────────────────────────────┐\n",
       "│ 2   ┆ Stuning even for the non-gamer  ┆ This sound track was beautiful… │\n",
       "│ --- ┆ ---                             ┆ ---                             │\n",
       "│ i64 ┆ str                             ┆ str                             │\n",
       "╞═════╪═════════════════════════════════╪═════════════════════════════════╡\n",
       "│ 2   ┆ The best soundtrack ever to an… ┆ I'm reading a lot of reviews s… │\n",
       "│ 2   ┆ Amazing!                        ┆ This soundtrack is my favorite… │\n",
       "│ 2   ┆ Excellent Soundtrack            ┆ I truly like this soundtrack a… │\n",
       "│ 2   ┆ Remember, Pull Your Jaw Off Th… ┆ If you've played the game, you… │\n",
       "│ 2   ┆ an absolute masterpiece         ┆ I am quite sure any of you act… │\n",
       "└─────┴─────────────────────────────────┴─────────────────────────────────┘"
      ]
     },
     "execution_count": 3,
     "metadata": {},
     "output_type": "execute_result"
    }
   ],
   "source": [
    "df.head()"
   ]
  },
  {
   "cell_type": "code",
   "execution_count": 4,
   "metadata": {},
   "outputs": [
    {
     "data": {
      "text/html": [
       "<div><style>\n",
       ".dataframe > thead > tr,\n",
       ".dataframe > tbody > tr {\n",
       "  text-align: right;\n",
       "  white-space: pre-wrap;\n",
       "}\n",
       "</style>\n",
       "<small>shape: (5, 3)</small><table border=\"1\" class=\"dataframe\"><thead><tr><th>sentiment</th><th>review_heading</th><th>review</th></tr><tr><td>i64</td><td>str</td><td>str</td></tr></thead><tbody><tr><td>2</td><td>&quot;The best soundtrack ever to an…</td><td>&quot;I&#x27;m reading a lot of reviews s…</td></tr><tr><td>2</td><td>&quot;Amazing!&quot;</td><td>&quot;This soundtrack is my favorite…</td></tr><tr><td>2</td><td>&quot;Excellent Soundtrack&quot;</td><td>&quot;I truly like this soundtrack a…</td></tr><tr><td>2</td><td>&quot;Remember, Pull Your Jaw Off Th…</td><td>&quot;If you&#x27;ve played the game, you…</td></tr><tr><td>2</td><td>&quot;an absolute masterpiece&quot;</td><td>&quot;I am quite sure any of you act…</td></tr></tbody></table></div>"
      ],
      "text/plain": [
       "shape: (5, 3)\n",
       "┌───────────┬─────────────────────────────────┬─────────────────────────────────┐\n",
       "│ sentiment ┆ review_heading                  ┆ review                          │\n",
       "│ ---       ┆ ---                             ┆ ---                             │\n",
       "│ i64       ┆ str                             ┆ str                             │\n",
       "╞═══════════╪═════════════════════════════════╪═════════════════════════════════╡\n",
       "│ 2         ┆ The best soundtrack ever to an… ┆ I'm reading a lot of reviews s… │\n",
       "│ 2         ┆ Amazing!                        ┆ This soundtrack is my favorite… │\n",
       "│ 2         ┆ Excellent Soundtrack            ┆ I truly like this soundtrack a… │\n",
       "│ 2         ┆ Remember, Pull Your Jaw Off Th… ┆ If you've played the game, you… │\n",
       "│ 2         ┆ an absolute masterpiece         ┆ I am quite sure any of you act… │\n",
       "└───────────┴─────────────────────────────────┴─────────────────────────────────┘"
      ]
     },
     "execution_count": 4,
     "metadata": {},
     "output_type": "execute_result"
    }
   ],
   "source": [
    "df.columns = ['sentiment', 'review_heading', 'review']\n",
    "df.head()"
   ]
  },
  {
   "cell_type": "code",
   "execution_count": 5,
   "metadata": {},
   "outputs": [
    {
     "data": {
      "text/html": [
       "<div><style>\n",
       ".dataframe > thead > tr,\n",
       ".dataframe > tbody > tr {\n",
       "  text-align: right;\n",
       "  white-space: pre-wrap;\n",
       "}\n",
       "</style>\n",
       "<small>shape: (5, 2)</small><table border=\"1\" class=\"dataframe\"><thead><tr><th>sentiment</th><th>review</th></tr><tr><td>i64</td><td>str</td></tr></thead><tbody><tr><td>2</td><td>&quot;I&#x27;m reading a lot of reviews s…</td></tr><tr><td>2</td><td>&quot;This soundtrack is my favorite…</td></tr><tr><td>2</td><td>&quot;I truly like this soundtrack a…</td></tr><tr><td>2</td><td>&quot;If you&#x27;ve played the game, you…</td></tr><tr><td>2</td><td>&quot;I am quite sure any of you act…</td></tr></tbody></table></div>"
      ],
      "text/plain": [
       "shape: (5, 2)\n",
       "┌───────────┬─────────────────────────────────┐\n",
       "│ sentiment ┆ review                          │\n",
       "│ ---       ┆ ---                             │\n",
       "│ i64       ┆ str                             │\n",
       "╞═══════════╪═════════════════════════════════╡\n",
       "│ 2         ┆ I'm reading a lot of reviews s… │\n",
       "│ 2         ┆ This soundtrack is my favorite… │\n",
       "│ 2         ┆ I truly like this soundtrack a… │\n",
       "│ 2         ┆ If you've played the game, you… │\n",
       "│ 2         ┆ I am quite sure any of you act… │\n",
       "└───────────┴─────────────────────────────────┘"
      ]
     },
     "execution_count": 5,
     "metadata": {},
     "output_type": "execute_result"
    }
   ],
   "source": [
    "df.drop_in_place('review_heading')\n",
    "df.head()"
   ]
  },
  {
   "cell_type": "code",
   "execution_count": 6,
   "metadata": {},
   "outputs": [],
   "source": [
    "df.write_csv('./data/Lastest_train.csv')"
   ]
  },
  {
   "cell_type": "code",
   "execution_count": 7,
   "metadata": {},
   "outputs": [
    {
     "data": {
      "text/html": [
       "<div><style>\n",
       ".dataframe > thead > tr,\n",
       ".dataframe > tbody > tr {\n",
       "  text-align: right;\n",
       "  white-space: pre-wrap;\n",
       "}\n",
       "</style>\n",
       "<small>shape: (5, 2)</small><table border=\"1\" class=\"dataframe\"><thead><tr><th>sentiment</th><th>review</th></tr><tr><td>i64</td><td>str</td></tr></thead><tbody><tr><td>2</td><td>&quot;I&#x27;m reading a lot of reviews s…</td></tr><tr><td>2</td><td>&quot;This soundtrack is my favorite…</td></tr><tr><td>2</td><td>&quot;I truly like this soundtrack a…</td></tr><tr><td>2</td><td>&quot;If you&#x27;ve played the game, you…</td></tr><tr><td>2</td><td>&quot;I am quite sure any of you act…</td></tr></tbody></table></div>"
      ],
      "text/plain": [
       "shape: (5, 2)\n",
       "┌───────────┬─────────────────────────────────┐\n",
       "│ sentiment ┆ review                          │\n",
       "│ ---       ┆ ---                             │\n",
       "│ i64       ┆ str                             │\n",
       "╞═══════════╪═════════════════════════════════╡\n",
       "│ 2         ┆ I'm reading a lot of reviews s… │\n",
       "│ 2         ┆ This soundtrack is my favorite… │\n",
       "│ 2         ┆ I truly like this soundtrack a… │\n",
       "│ 2         ┆ If you've played the game, you… │\n",
       "│ 2         ┆ I am quite sure any of you act… │\n",
       "└───────────┴─────────────────────────────────┘"
      ]
     },
     "execution_count": 7,
     "metadata": {},
     "output_type": "execute_result"
    }
   ],
   "source": [
    "df_new = pl.read_csv('./data/Latest_train.csv')\n",
    "df_new.head()"
   ]
  },
  {
   "cell_type": "code",
   "execution_count": 8,
   "metadata": {},
   "outputs": [
    {
     "data": {
      "text/plain": [
       "\"I'm reading a lot of reviews saying that this is the best 'game soundtrack' and I figured that I'd write a review to disagree a bit. This in my opinino is Yasunori Mitsuda's ultimate masterpiece. The music is timeless and I'm been listening to it for years now and its beauty simply refuses to fade.The price tag on this is pretty staggering I must say, but if you are going to buy any cd for this much money, this is the only one that I feel would be worth every penny.\""
      ]
     },
     "execution_count": 8,
     "metadata": {},
     "output_type": "execute_result"
    }
   ],
   "source": [
    "df_new['review'][0]"
   ]
  },
  {
   "cell_type": "code",
   "execution_count": 9,
   "metadata": {},
   "outputs": [],
   "source": [
    "df_test = pl.read_csv('./data/test.csv')\n",
    "df_test.columns = ['sentiment', 'review_heading', 'review']\n",
    "df_test.drop_in_place('review_heading')\n",
    "df_test.write_csv('./data/Latest_test.csv')"
   ]
  }
 ],
 "metadata": {
  "kernelspec": {
   "display_name": "pytorch",
   "language": "python",
   "name": "python3"
  },
  "language_info": {
   "codemirror_mode": {
    "name": "ipython",
    "version": 3
   },
   "file_extension": ".py",
   "mimetype": "text/x-python",
   "name": "python",
   "nbconvert_exporter": "python",
   "pygments_lexer": "ipython3",
   "version": "3.10.14"
  }
 },
 "nbformat": 4,
 "nbformat_minor": 2
}
